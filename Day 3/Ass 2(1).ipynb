{
 "cells": [
  {
   "cell_type": "code",
   "execution_count": 1,
   "id": "02d5a187-6ec3-48fb-abbf-19d28562f3f7",
   "metadata": {},
   "outputs": [
    {
     "name": "stdout",
     "output_type": "stream",
     "text": [
      "Epoch 0, Error: 0.4997\n",
      "Epoch 1000, Error: 0.4997\n",
      "Epoch 2000, Error: 0.4982\n",
      "Epoch 3000, Error: 0.4830\n",
      "Epoch 4000, Error: 0.4163\n",
      "Epoch 5000, Error: 0.3254\n",
      "Epoch 6000, Error: 0.1678\n",
      "Epoch 7000, Error: 0.1096\n",
      "Epoch 8000, Error: 0.0846\n",
      "Epoch 9000, Error: 0.0705\n",
      "\n",
      "Final predictions:\n",
      "[[0.]\n",
      " [1.]\n",
      " [1.]\n",
      " [0.]]\n"
     ]
    }
   ],
   "source": [
    "import numpy as np\n",
    "import matplotlib.pyplot as plt\n",
    "\n",
    "# XOR Data\n",
    "X = np.array([[0,0], [0,1], [1,0], [1,1]])   \n",
    "y = np.array([[0], [1], [1], [0]])           \n",
    "\n",
    "# Activation function (Sigmoid)\n",
    "def sigmoid(x):\n",
    "    return 1 / (1 + np.exp(-x))\n",
    "\n",
    "# Derivative of sigmoid\n",
    "def sigmoid_derivative(x):\n",
    "    return x * (1 - x)\n",
    "\n",
    "# Initialize weights and biases randomly\n",
    "np.random.seed(1)\n",
    "input_neurons = 2\n",
    "hidden_neurons = 2\n",
    "output_neurons = 1\n",
    "\n",
    "# Weights and bias for input to hidden layer\n",
    "w1 = np.random.uniform(size=(input_neurons, hidden_neurons))\n",
    "b1 = np.random.uniform(size=(1, hidden_neurons))\n",
    "\n",
    "# Weights and bias for hidden to output layer\n",
    "w2 = np.random.uniform(size=(hidden_neurons, output_neurons))\n",
    "b2 = np.random.uniform(size=(1, output_neurons))\n",
    "\n",
    "# Training loop\n",
    "epochs = 10000\n",
    "learning_rate = 0.1\n",
    "\n",
    "for epoch in range(epochs):\n",
    "    # Forward pass \n",
    "    hidden_input = np.dot(X, w1) + b1\n",
    "    hidden_output = sigmoid(hidden_input)\n",
    "\n",
    "    final_input = np.dot(hidden_output, w2) + b2\n",
    "    final_output = sigmoid(final_input)\n",
    "\n",
    "    # Backward pass \n",
    "    error = y - final_output\n",
    "    d_output = error * sigmoid_derivative(final_output)\n",
    "\n",
    "    error_hidden = d_output.dot(w2.T)\n",
    "    d_hidden = error_hidden * sigmoid_derivative(hidden_output)\n",
    "\n",
    "    # Update weights \n",
    "    w2 += hidden_output.T.dot(d_output) * learning_rate\n",
    "    b2 += np.sum(d_output, axis=0, keepdims=True) * learning_rate\n",
    "\n",
    "    w1 += X.T.dot(d_hidden) * learning_rate\n",
    "    b1 += np.sum(d_hidden, axis=0, keepdims=True) * learning_rate\n",
    "\n",
    "    #Print error every 1000 epochs\n",
    "    if epoch % 1000 == 0:\n",
    "        print(f\"Epoch {epoch}, Error: {np.mean(np.abs(error)):.4f}\")\n",
    "\n",
    "print(\"\\nFinal predictions:\")\n",
    "print(final_output.round())\n"
   ]
  },
  {
   "cell_type": "code",
   "execution_count": 2,
   "id": "73b6a8c9-f337-41d1-b284-60e9d35e9eda",
   "metadata": {},
   "outputs": [
    {
     "data": {
      "image/png": "[encoded data removed]",
      "text/plain": [
       "<Figure size 640x480 with 1 Axes>"
      ]
     },
     "metadata": {},
     "output_type": "display_data"
    }
   ],
   "source": [
    "def predict(x):\n",
    "    hidden = sigmoid(np.dot(x, w1) + b1)\n",
    "    output = sigmoid(np.dot(hidden, w2) + b2)\n",
    "    return output\n",
    "\n",
    "xx, yy = np.meshgrid(np.linspace(0,1,100), np.linspace(0,1,100))\n",
    "grid = np.c_[xx.ravel(), yy.ravel()]\n",
    "preds = predict(grid).reshape(xx.shape)\n",
    "\n",
    "plt.contourf(xx, yy, preds, levels=[0,0.5,1], cmap=\"coolwarm\", alpha=0.7)\n",
    "plt.scatter(X[:,0], X[:,1], c=y.flatten(), cmap=\"coolwarm\", edgecolors='k')\n",
    "plt.title(\"Decision Boundary for XOR\")\n",
    "plt.xlabel(\"x1\")\n",
    "plt.ylabel(\"x2\")\n",
    "plt.show()\n"
   ]
  },
  {
   "cell_type": "code",
   "execution_count": null,
   "id": "94196730-0069-4db4-9a53-7f77bc6ec2c8",
   "metadata": {},
   "outputs": [],
   "source": []
  }
 ],
 "metadata": {
  "kernelspec": {
   "display_name": "Python 3 (ipykernel)",
   "language": "python",
   "name": "python3"
  },
  "language_info": {
   "codemirror_mode": {
    "name": "ipython",
    "version": 3
   },
   "file_extension": ".py",
   "mimetype": "text/x-python",
   "name": "python",
   "nbconvert_exporter": "python",
   "pygments_lexer": "ipython3",
   "version": "3.12.5"
  }
 },
 "nbformat": 4,
 "nbformat_minor": 5
}
